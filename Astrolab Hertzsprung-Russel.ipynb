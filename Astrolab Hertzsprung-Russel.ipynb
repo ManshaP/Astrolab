{
 "cells": [
  {
   "cell_type": "code",
   "execution_count": 2,
   "metadata": {
    "collapsed": true
   },
   "outputs": [],
   "source": [
    "# Importieren der Module\n",
    "import numpy as np\n",
    "from scipy.optimize import curve_fit\n",
    "import matplotlib.pyplot as plt\n",
    "%matplotlib inline"
   ]
  },
  {
   "cell_type": "code",
   "execution_count": 50,
   "metadata": {
    "collapsed": false
   },
   "outputs": [],
   "source": [
    "#Importieren der Daten\n",
    "M1, C1, BC1=np.loadtxt('/Users/Peter/Desktop/Python-Kurs/HRDI.txt', skiprows=2, usecols=(1,2,3), unpack=True)"
   ]
  },
  {
   "cell_type": "code",
   "execution_count": 53,
   "metadata": {
    "collapsed": false
   },
   "outputs": [],
   "source": [
    "M5, C5, BC5=np.loadtxt('/Users/Peter/Desktop/Python-Kurs/HRDV.txt', skiprows=2, usecols=(1,2,3), unpack=True)"
   ]
  },
  {
   "cell_type": "code",
   "execution_count": 54,
   "metadata": {
    "collapsed": false
   },
   "outputs": [
    {
     "data": {
      "text/plain": [
       "<matplotlib.collections.PathCollection at 0x115735fd0>"
      ]
     },
     "execution_count": 54,
     "metadata": {},
     "output_type": "execute_result"
    },
    {
     "data": {
      "image/png": "[encoded data removed]",
      "text/plain": [
       "<matplotlib.figure.Figure at 0x11572c3c8>"
      ]
     },
     "metadata": {},
     "output_type": "display_data"
    }
   ],
   "source": [
    "plt.scatter(C1, -M1) \n",
    "plt.scatter(C5, -M5) "
   ]
  },
  {
   "cell_type": "code",
   "execution_count": 55,
   "metadata": {
    "collapsed": false
   },
   "outputs": [],
   "source": [
    "plt.ylim?"
   ]
  },
  {
   "cell_type": "code",
   "execution_count": 56,
   "metadata": {
    "collapsed": true
   },
   "outputs": [],
   "source": [
    "#https://en.wikipedia.org/wiki/Color_index"
   ]
  },
  {
   "cell_type": "code",
   "execution_count": 57,
   "metadata": {
    "collapsed": false
   },
   "outputs": [
    {
     "name": "stdout",
     "output_type": "stream",
     "text": [
      "[ 16990.88894361  16990.88894361  15547.81910225  13348.43276265\n",
      "  12103.30141354  11572.81772953  10795.07392068  10381.76660526\n",
      "   9882.42253679   9433.58016478   9125.4584853    8838.79389328\n",
      "   8658.47297934   8402.69528332   7937.86669493   7337.07925498\n",
      "   6128.7113367    5404.26756362   5078.23000643   4695.22627739\n",
      "   4409.23403237   4121.43743763   3854.68005625   3649.04192757\n",
      "   3607.90050634   3528.43430811   3528.43430811   3391.76901115]\n",
      "[-0.31 -0.31 -0.27 -0.19 -0.13 -0.1  -0.05 -0.02  0.02  0.06  0.09  0.12\n",
      "  0.14  0.17  0.23  0.32  0.56  0.76  0.87  1.02  1.15  1.3   1.46  1.6\n",
      "  1.63  1.69  1.69  1.8 ]\n"
     ]
    }
   ],
   "source": [
    "T1=4600*((1)/(0.92*(C1)+1.7)+1/(0.92*(C1)+0.62))\n",
    "T5=4600*((1)/(0.92*(C5)+1.7)+1/(0.92*(C5)+0.62))\n",
    "print(T1)\n",
    "print(C1)"
   ]
  },
  {
   "cell_type": "code",
   "execution_count": 58,
   "metadata": {
    "collapsed": true
   },
   "outputs": [],
   "source": [
    "def radius(T,rr):\n",
    "    return 4.74-2.5*np.log10(T**4)+37.63-2.5*np.log10(rr**2)"
   ]
  },
  {
   "cell_type": "code",
   "execution_count": 60,
   "metadata": {
    "collapsed": false
   },
   "outputs": [
    {
     "data": {
      "text/plain": [
       "[<matplotlib.lines.Line2D at 0x1151c9eb8>]"
      ]
     },
     "execution_count": 60,
     "metadata": {},
     "output_type": "execute_result"
    },
    {
     "data": {
      "image/png": "[encoded data removed]",
      "text/plain": [
       "<matplotlib.figure.Figure at 0x1159eb860>"
      ]
     },
     "metadata": {},
     "output_type": "display_data"
    }
   ],
   "source": [
    "plt.gca().invert_yaxis()\n",
    "plt.scatter(C1, M1+BC1)\n",
    "plt.scatter(C5, M5+BC5) \n",
    "plt.plot(C1, radius(T1,0.01))\n",
    "plt.plot(C1, radius(T1,0.1))\n",
    "plt.plot(C1, radius(T1,1))\n",
    "plt.plot(C1, radius(T1,10))\n",
    "plt.plot(C1, radius(T1,100))"
   ]
  },
  {
   "cell_type": "code",
   "execution_count": null,
   "metadata": {
    "collapsed": true
   },
   "outputs": [],
   "source": [
    "plt.gca().invert_xaxis()"
   ]
  }
 ],
 "metadata": {
  "kernelspec": {
   "display_name": "Python [Root]",
   "language": "python",
   "name": "Python [Root]"
  },
  "language_info": {
   "codemirror_mode": {
    "name": "ipython",
    "version": 3
   },
   "file_extension": ".py",
   "mimetype": "text/x-python",
   "name": "python",
   "nbconvert_exporter": "python",
   "pygments_lexer": "ipython3",
   "version": "3.5.2"
  }
 },
 "nbformat": 4,
 "nbformat_minor": 0
}
